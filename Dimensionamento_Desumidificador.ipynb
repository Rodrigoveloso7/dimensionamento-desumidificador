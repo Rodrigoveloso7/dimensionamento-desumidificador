{
  "nbformat": 4,
  "nbformat_minor": 0,
  "metadata": {
    "colab": {
      "provenance": [],
      "authorship_tag": "ABX9TyPJyPP5s8TNP8GV6punKPE1",
      "include_colab_link": true
    },
    "kernelspec": {
      "name": "python3",
      "display_name": "Python 3"
    },
    "language_info": {
      "name": "python"
    }
  },
  "cells": [
    {
      "cell_type": "markdown",
      "metadata": {
        "id": "view-in-github",
        "colab_type": "text"
      },
      "source": [
        "<a href=\"https://colab.research.google.com/github/Rodrigoveloso7/dimensionamento-desumidificador/blob/main/Dimensionamento_Desumidificador.ipynb\" target=\"_parent\"><img src=\"https://colab.research.google.com/assets/colab-badge.svg\" alt=\"Open In Colab\"/></a>"
      ]
    },
    {
      "cell_type": "markdown",
      "source": [
        "#Instalação bibliotecas"
      ],
      "metadata": {
        "id": "3WYCKHwsP8Ad"
      }
    },
    {
      "cell_type": "code",
      "source": [
        "# pip install CoolProp\n"
      ],
      "metadata": {
        "id": "gVJzF1TFQCjV"
      },
      "execution_count": 3338,
      "outputs": []
    },
    {
      "cell_type": "code",
      "source": [
        "# pip install ht"
      ],
      "metadata": {
        "id": "SDngztnSQIC-"
      },
      "execution_count": 3339,
      "outputs": []
    },
    {
      "cell_type": "code",
      "execution_count": 3340,
      "metadata": {
        "id": "aAZx-iASCa5d"
      },
      "outputs": [],
      "source": [
        "import numpy as np\n",
        "from CoolProp.CoolProp import PropsSI\n",
        "import ht as ht\n",
        "import ht.boiling_flow as bf"
      ]
    },
    {
      "cell_type": "markdown",
      "source": [
        "#Condições de operação Biogás"
      ],
      "metadata": {
        "id": "HJ1idXd6NPj7"
      }
    },
    {
      "cell_type": "code",
      "source": [
        "# fracoes_volumetricas = {\"Methane\":0.60,\"CarbonDioxide\":0.35,\"Water\":0.05} # Frações volumétricas dos componentes do biogás\n",
        "fracoes_volumetricas = {\"Nitrogen\":0.7691,\"Oxygen\":0.2078,'Argon':0.0092,'CarbonDioxide':0.0004,'Water':0.017} # Frações volumétricas dos componentes do biogás\n",
        "# fracoes_volumetricas = {\"Methane\":0.637,\"CarbonDioxide\":0.35,\"Water\":0.013}"
      ],
      "metadata": {
        "id": "ms3Qld6vCt7J"
      },
      "execution_count": 3341,
      "outputs": []
    },
    {
      "cell_type": "code",
      "source": [
        "P_entrada_biogas = 33.34*1000 # [Pa] - Pressão de admissão do biogás\n",
        "T_entrada_biogas = 273.15+ 74.8# [K] - Temperatura de admissão do biogás\n",
        "T_referencia = 273.15 # [K] - Temperatura de referência\n",
        "P_referencia = 101325 # [Pa] - Pressão de referência\n",
        "vazao_normal_biogas = 60 # [Nm³/h] - Vazão volumétrica normalizada do biogás\n",
        "T_alvo_biogas = 273.15 + 24.6 # [K] - Temperatura pretendida do biogás na saída\n",
        "T_alvo_arrefecimento = 273.15-1 # [K] - Temperatura pretendida do líquido de arrefecimento\n",
        "T_ambiente = 273.15+20 # [K] - Temperatura Ambiente\n",
        "P_ambiente = 101325 # [Pa] - Pressão ambiente"
      ],
      "metadata": {
        "id": "-KMyPMBuFF7k"
      },
      "execution_count": 3342,
      "outputs": []
    },
    {
      "cell_type": "code",
      "source": [
        "z = (sum(PropsSI('Z', 'T', T_entrada_biogas, 'P', P_entrada_biogas, elemento)*fracoes_volumetricas[elemento]for elemento in fracoes_volumetricas))\n",
        "z"
      ],
      "metadata": {
        "colab": {
          "base_uri": "https://localhost:8080/"
        },
        "id": "fth7_djVoB60",
        "outputId": "417ff424-8b2f-4915-e3b6-fafc406a5c8d"
      },
      "execution_count": 3343,
      "outputs": [
        {
          "output_type": "execute_result",
          "data": {
            "text/plain": [
              "1.0033896427995057"
            ]
          },
          "metadata": {},
          "execution_count": 3343
        }
      ]
    },
    {
      "cell_type": "markdown",
      "source": [
        "# Propriedades geométricas serpentina"
      ],
      "metadata": {
        "id": "t0jmsheyvioR"
      }
    },
    {
      "cell_type": "code",
      "source": [
        "diam_hel_serp = 270/1000 # m Diâmetro da espira\n",
        "dext_serp = 12.7/1000 # m Diâmetro externo da serpentina\n",
        "espessura_serp = 1.2/1000 # m Espessura da serpentina\n",
        "diam_interno_serp = dext_serp-2*espessura_serp # m Diâmetro interno da serpentina"
      ],
      "metadata": {
        "id": "2qiMGIG6RBkO"
      },
      "execution_count": 3344,
      "outputs": []
    },
    {
      "cell_type": "markdown",
      "source": [
        "#Propriedades geométricas colméia"
      ],
      "metadata": {
        "id": "UyZWt9ST4meW"
      }
    },
    {
      "cell_type": "code",
      "source": [
        "dext_tubos = 19.05/1000 # m\n",
        "espessura_tubos = 1.2/1000 # m\n",
        "dint_tubos = dext_tubos-2*espessura_tubos # m\n",
        "A_int_tubos = np.pi*(dint_tubos**2)/4 # m²\n",
        "# A_ext_tubos = np.pi*(dext_tubos**2)/4 # m²\n",
        "N = 66"
      ],
      "metadata": {
        "id": "CEA6IJUu3yn2"
      },
      "execution_count": 3345,
      "outputs": []
    },
    {
      "cell_type": "markdown",
      "source": [
        "#Propriedades geométricas casco"
      ],
      "metadata": {
        "id": "sHw1sAugkXVl"
      }
    },
    {
      "cell_type": "code",
      "source": [
        "diam_casco = 330/1000 # m Diâmetro interno do casco\n",
        "diam_entrada_arrefecimento = 19.05/1000 # m Diâmetro de entrada do fluido de arrefecimento\n",
        "comprimento_casco = 1995/1000 # m Comprimento do casco\n",
        "volume_arrefecimento = ((np.pi*((diam_casco)**2))/4)-((np.pi*(dext_serp**2)/4)*N)*comprimento_casco # m³ Volume do fluido de arrefecimento (mistura água + monoetilenoglicol)\n",
        "volume_arrefecimento = 135/1000 # Preciso entender melhor como compor este volme, só volume_arrefecimento não atende, tenho que adicionar volume dos tubos externos.\n",
        "\n",
        "\n"
      ],
      "metadata": {
        "id": "cHK0rrBvkbL9"
      },
      "execution_count": 3346,
      "outputs": []
    },
    {
      "cell_type": "markdown",
      "source": [
        "#Condições de operação líquido de arrefecimento"
      ],
      "metadata": {
        "id": "GsfXF6JAlNtp"
      }
    },
    {
      "cell_type": "markdown",
      "source": [
        "https://www.engineeringtoolbox.com/ethylene-glycol-d_146.html\n",
        "\n",
        "Considerando uma mistura 80% água e 20% monoetilenoglicol para obter uma temperatura de solidificação de -7.9C"
      ],
      "metadata": {
        "id": "4lbWKWYpjOix"
      }
    },
    {
      "cell_type": "code",
      "source": [
        "cp_arrefecimento = 3.951*1000 # J/kg.K\n",
        "densidade_arrefecimento = 1030 # kg/m³\n",
        "viscosidade_dinamica_arrefecimento = 1.42/1000 # Pa.s Este valor foi obtido em cima de fracao massica\n",
        "k_arrefecimento = 0.55 # W/mK\n",
        "massa_arrefecimento = volume_arrefecimento*densidade_arrefecimento #kg\n",
        "massa_arrefecimento\n",
        "tempo_arrefecimento = 60*40 # segundos"
      ],
      "metadata": {
        "id": "50iz3-ECjxJ3"
      },
      "execution_count": 3347,
      "outputs": []
    },
    {
      "cell_type": "code",
      "source": [
        "vazao_volumetrica_bomba = 1.8/3600 #m³/s\n",
        "vazao_massica_bomba = vazao_volumetrica_bomba*densidade_arrefecimento\n",
        "D_livre = diam_casco-diam_hel_serp\n",
        "D_livre\n"
      ],
      "metadata": {
        "colab": {
          "base_uri": "https://localhost:8080/"
        },
        "id": "RrZbJMXOH-38",
        "outputId": "e60b55b9-959a-4b70-d806-22647c1b3a3a"
      },
      "execution_count": 3348,
      "outputs": [
        {
          "output_type": "execute_result",
          "data": {
            "text/plain": [
              "0.06"
            ]
          },
          "metadata": {},
          "execution_count": 3348
        }
      ]
    },
    {
      "cell_type": "code",
      "source": [
        "vazao_volumetrica_bomba = 1.8/3600 #m³/s\n",
        "vazao_massica_bomba = vazao_volumetrica_bomba*densidade_arrefecimento\n",
        "A_casco = (np.pi*(diam_casco**2)/4)\n",
        "A_serp = ((np.pi*(diam_hel_serp**2)/4)-(np.pi*((diam_hel_serp-2*dext_serp)**2)/4))\n",
        "A_tubos = (np.pi*(dext_tubos**2)/4)*N\n",
        "Ac = A_casco - A_serp - A_tubos\n",
        "# Ac = A_casco - (np.pi*(diam_hel_serp**2)/4)\n",
        "# u_casco = vazao_massica_bomba/(densidade_arrefecimento*Ac)\n",
        "# u_casco\n",
        "# Ac = (np.pi*(diam_casco**2)/4)- ((np.pi*(diam_hel_serp**2)/4))\n",
        "# D_livre = diam_casco-diam_hel_serp\n",
        "# print(Ac)\n",
        "# # u_casco = vazao_massica_bomba/(densidade_arrefecimento*Ac)\n",
        "Ac = (np.pi*(diam_casco**2)/4)\n",
        "u_casco = (vazao_volumetrica_bomba/(Ac))*0.21\n",
        "print(u_casco)\n",
        "# ar = (np.pi*(diam_entrada_arrefecimento**2))/4\n",
        "# print(Ac)\n",
        "# print(u_casco)\n",
        "\n"
      ],
      "metadata": {
        "colab": {
          "base_uri": "https://localhost:8080/"
        },
        "id": "MWgZEeeHJXH3",
        "outputId": "869b3f00-285d-42b1-acb5-cb98dd440e3f"
      },
      "execution_count": 3349,
      "outputs": [
        {
          "output_type": "stream",
          "name": "stdout",
          "text": [
            "0.0012276414343176498\n"
          ]
        }
      ]
    },
    {
      "cell_type": "code",
      "source": [
        "# vazao_volumetrica_bomba = 1.8/3600 #m³/s\n",
        "# vazao_massica_bomba = vazao_volumetrica_bomba*densidade_arrefecimento\n",
        "# D_livre = 67.5/1000\n",
        "# Ac = (np.pi*(D_livre**2)/4)\n",
        "# print(Ac)\n",
        "# u_casco = vazao_massica_bomba/(densidade_arrefecimento*Ac)\n",
        "# # u_casco = vazao_volumetrica_bomba/((np.pi*((diam_entrada_arrefecimento))**(2))/4)\n",
        "# u_casco"
      ],
      "metadata": {
        "id": "Qztb_kCztDvJ"
      },
      "execution_count": 3350,
      "outputs": []
    },
    {
      "cell_type": "code",
      "source": [
        "vazao_volumetrica_biogas_entrada = (vazao_normal_biogas*(P_referencia/P_entrada_biogas)*(T_entrada_biogas/T_referencia))/3600 #m³/s\n",
        "massa_molar_total_entrada = 0\n",
        "for elementos in fracoes_volumetricas:\n",
        "    massa_molar_total_entrada = massa_molar_total_entrada + fracoes_volumetricas[elementos]*PropsSI('M', 'T', T_entrada_biogas, 'P', P_entrada_biogas, elementos)\n",
        "densidade_operacao_biogas = (P_entrada_biogas*massa_molar_total_entrada)/(8.314*T_entrada_biogas)\n",
        "vazao_massica_biogas = vazao_volumetrica_biogas_entrada*densidade_operacao_biogas\n"
      ],
      "metadata": {
        "id": "GTxnad2hQHSf"
      },
      "execution_count": 3351,
      "outputs": []
    },
    {
      "cell_type": "code",
      "source": [
        "densidade_operacao_biogas"
      ],
      "metadata": {
        "colab": {
          "base_uri": "https://localhost:8080/"
        },
        "id": "Yym3lttPwrFh",
        "outputId": "0ea52303-935b-4eaf-e2bd-344d562ff6cc"
      },
      "execution_count": 3352,
      "outputs": [
        {
          "output_type": "execute_result",
          "data": {
            "text/plain": [
              "0.33290834811067527"
            ]
          },
          "metadata": {},
          "execution_count": 3352
        }
      ]
    },
    {
      "cell_type": "code",
      "source": [
        "massa_molar_total = 0\n",
        "cp_biogas = 0\n",
        "for elementos in fracoes_volumetricas:\n",
        "  massa_molar_total = massa_molar_total + fracoes_volumetricas[elementos]*PropsSI('M', 'T', T_entrada_biogas, 'P', P_entrada_biogas, elementos)\n",
        "massa_molar_total"
      ],
      "metadata": {
        "colab": {
          "base_uri": "https://localhost:8080/"
        },
        "id": "Kdah_c-h57rR",
        "outputId": "0076b0f7-c77d-42eb-efaf-33b5b682ae85"
      },
      "execution_count": 3353,
      "outputs": [
        {
          "output_type": "execute_result",
          "data": {
            "text/plain": [
              "0.028885903184"
            ]
          },
          "metadata": {},
          "execution_count": 3353
        }
      ]
    },
    {
      "cell_type": "markdown",
      "source": [
        "#Função para definição de calor específico do biogás em função da pressão e temperatura"
      ],
      "metadata": {
        "id": "286dfjSqeZ1a"
      }
    },
    {
      "cell_type": "code",
      "source": [
        "def cp_biogas(P_biogas,T_biogas):\n",
        "   massa_molar_total = 0\n",
        "   cp_biogas = 0\n",
        "   for elementos in fracoes_volumetricas:\n",
        "    massa_molar_total = massa_molar_total + fracoes_volumetricas[elementos]*PropsSI('M', 'T', T_biogas, 'P', P_biogas, elementos)\n",
        "   #print(massa_molar_total)\n",
        "   for elementos in fracoes_volumetricas:\n",
        "    cp_biogas = cp_biogas + (((PropsSI('M', 'T', T_biogas, 'P', P_biogas*fracoes_volumetricas[elementos], elementos)*fracoes_volumetricas[elementos])/massa_molar_total)*PropsSI('C', 'T', T_biogas, 'P', P_biogas*fracoes_volumetricas[elementos], elementos))\n",
        "   return cp_biogas"
      ],
      "metadata": {
        "id": "r4gcRAoQEa6f"
      },
      "execution_count": 3354,
      "outputs": []
    },
    {
      "cell_type": "markdown",
      "source": [
        "#Definição da temperatura de orvalho"
      ],
      "metadata": {
        "id": "T7hF-a4xHrRj"
      }
    },
    {
      "cell_type": "code",
      "source": [
        "# P_vapor_agua = P_entrada_biogas*fracoes_volumetricas['Water']\n",
        "# T_orvalho = PropsSI('T', 'P', P_vapor_agua, 'Q', 0, 'Water')\n",
        "# T_orvalho"
      ],
      "metadata": {
        "id": "sPBBNXEgHvOi"
      },
      "execution_count": 3355,
      "outputs": []
    },
    {
      "cell_type": "markdown",
      "source": [
        "#Função para determinação de carga termica"
      ],
      "metadata": {
        "id": "Egr2sesbhl4y"
      }
    },
    {
      "cell_type": "code",
      "source": [
        "def carga_termica():\n",
        "  divisoes = 500\n",
        "  Qsens_biogas = 0\n",
        "  T = np.linspace(T_entrada_biogas,T_alvo_biogas,divisoes)\n",
        "  for i in range(len(T)-1):\n",
        "    cp = cp_biogas(P_entrada_biogas,(T[i]+T[i+1])/2)\n",
        "    Qsens_biogas = vazao_massica_biogas*cp*(T[i] - T[i+1]) + Qsens_biogas\n",
        "    cp= 0\n",
        "  Qlat_biogas = vazao_massica_biogas*(fracoes_volumetricas['Water']*PropsSI('M', 'T', T_entrada_biogas, 'P', P_entrada_biogas, elementos)/massa_molar_total_entrada)*(((PropsSI(\"H\", \"T\", T_alvo_biogas, \"Q\", 1, \"Water\")) - PropsSI(\"H\", \"T\", T_alvo_biogas,\"Q\", 0, \"Water\")))\n",
        "  Q_arrefecimento = massa_arrefecimento*cp_arrefecimento*(T_ambiente - T_alvo_arrefecimento)/tempo_arrefecimento\n",
        "  Qtotal = Qlat_biogas + Qsens_biogas +Q_arrefecimento\n",
        "  return Qtotal,Qlat_biogas,Qsens_biogas,Q_arrefecimento"
      ],
      "metadata": {
        "id": "RWntsFc0PNW2"
      },
      "execution_count": 3356,
      "outputs": []
    },
    {
      "cell_type": "code",
      "source": [
        "carga_termica()"
      ],
      "metadata": {
        "id": "LbKsSmvjUEqV",
        "colab": {
          "base_uri": "https://localhost:8080/"
        },
        "outputId": "b61ca69c-4d67-41a7-d759-6ca4f723bcf5"
      },
      "execution_count": 3357,
      "outputs": [
        {
          "output_type": "execute_result",
          "data": {
            "text/plain": [
              "(np.float64(6458.503232465147),\n",
              " 556.2889799379452,\n",
              " np.float64(1095.0819400272028),\n",
              " 4807.1323125)"
            ]
          },
          "metadata": {},
          "execution_count": 3357
        }
      ]
    },
    {
      "cell_type": "markdown",
      "source": [
        "![image.png](data:image/png;base64,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)"
      ],
      "metadata": {
        "id": "AInlGXIQOSqU"
      }
    },
    {
      "cell_type": "markdown",
      "source": [
        "#Calculando comprimento evaporador"
      ],
      "metadata": {
        "id": "wQ7jxB0Hri_H"
      }
    },
    {
      "cell_type": "markdown",
      "source": [
        "Definição da vazão mássica a partir da carga térmica, utilizando software CoolSelector da Danfoss\n"
      ],
      "metadata": {
        "id": "lPHg4FeoueYe"
      }
    },
    {
      "cell_type": "code",
      "source": [
        "vazao_massica_refri = 183.4/3600 #kg/s\n",
        "T_evap = 269.9-21 # K\n",
        "P_entrada_evap = 291.8*1000 #Pa\n",
        "x_ini = 0.35 # fração de vapor na entrada do evaporador\n",
        "Q_lat_refr = vazao_massica_refri*(((PropsSI(\"H\", \"T\", T_evap, \"Q\", 1, \"R22\")) - PropsSI(\"H\", \"T\", T_evap, \"Q\", 0.3, \"R22\")))\n",
        "Q_lat_refr # W"
      ],
      "metadata": {
        "colab": {
          "base_uri": "https://localhost:8080/"
        },
        "id": "rgVqNIF9uosS",
        "outputId": "33154ad6-90de-4173-ba76-4fb5419f7d8e"
      },
      "execution_count": 3358,
      "outputs": [
        {
          "output_type": "execute_result",
          "data": {
            "text/plain": [
              "7950.773967326643"
            ]
          },
          "metadata": {},
          "execution_count": 3358
        }
      ]
    },
    {
      "cell_type": "code",
      "source": [
        "T_sat = T_evap\n",
        "fluid = 'R22'\n",
        "divisoes = 200\n",
        "superaquecimento = 8\n",
        "T_range_superaquecimento = np.linspace(T_sat,T_sat+ superaquecimento,divisoes)\n",
        "k_inox = 16\n",
        "Re_casco = (densidade_arrefecimento*u_casco*D_livre)/(viscosidade_dinamica_arrefecimento)\n",
        "Pr_casco = (cp_arrefecimento*viscosidade_dinamica_arrefecimento)/(k_arrefecimento)\n",
        "Re_casco\n",
        "k_inox = 16\n",
        "Re_ext_serp = (densidade_arrefecimento*u_casco*dext_serp)/(viscosidade_dinamica_arrefecimento)\n",
        "Pr_ext_serp = (cp_arrefecimento*viscosidade_dinamica_arrefecimento)/(k_arrefecimento)\n",
        "Re_ext_tubos = (densidade_arrefecimento*u_casco*dext_tubos)/(viscosidade_dinamica_arrefecimento)\n",
        "Pr_ext_tubos = (cp_arrefecimento*viscosidade_dinamica_arrefecimento)/(k_arrefecimento)"
      ],
      "metadata": {
        "id": "F97GNukQgio1"
      },
      "execution_count": 3359,
      "outputs": []
    },
    {
      "cell_type": "markdown",
      "source": [
        "https://www.sciencedirect.com/science/article/abs/pii/S0140700714002369"
      ],
      "metadata": {
        "id": "0vBbqgY-8ci2"
      }
    },
    {
      "cell_type": "markdown",
      "source": [
        "https://jingweizhu.weebly.com/uploads/1/3/5/4/13548262/summary_of_chen%E2%80%99s_correlation_for_boiling_heat_transfer_to_saturated_fluids_in_convective_flow.pdf\n",
        "\n",
        "Esse e descrição do chat gpt\n"
      ],
      "metadata": {
        "id": "-MqBWsMu95n3"
      }
    },
    {
      "cell_type": "code",
      "source": [
        "# Propriedades obtidas na linha de saturação\n",
        "rhol = PropsSI('D', 'T', T_evap, 'Q', 0, fluid)       # kg/m³\n",
        "rhog = PropsSI('D', 'T', T_evap, 'Q', 1, fluid)       # kg/m³\n",
        "mul  = PropsSI('V', 'T', T_evap, 'Q', 0, fluid)       # Pa.s\n",
        "mug  = PropsSI('V', 'T', T_evap, 'Q', 1, fluid)       # Pa.s\n",
        "kl   = PropsSI('L', 'T', T_evap, 'Q', 0, fluid)       # W/m.K\n",
        "Cpl  = PropsSI('C', 'T', T_evap, 'Q', 0, fluid)       # J/kg.K\n",
        "Hvap = PropsSI('H', 'T', T_evap, 'Q', 1, fluid) - \\\n",
        "      PropsSI('H', 'T', T_evap, 'Q', 0, fluid)       # J/kg\n",
        "sigma = PropsSI('SURFACE_TENSION', 'T', T_evap, 'Q', 0, fluid)  # N/m\n",
        "\n",
        "\n",
        "x = np.linspace(x_ini,0.99, divisoes)\n",
        "x"
      ],
      "metadata": {
        "id": "ZYljIrUXGo7C",
        "colab": {
          "base_uri": "https://localhost:8080/"
        },
        "outputId": "27a94c92-b987-4f5e-dd3d-f072eafb4a8a"
      },
      "execution_count": 3360,
      "outputs": [
        {
          "output_type": "execute_result",
          "data": {
            "text/plain": [
              "array([0.35      , 0.35321608, 0.35643216, 0.35964824, 0.36286432,\n",
              "       0.3660804 , 0.36929648, 0.37251256, 0.37572864, 0.37894472,\n",
              "       0.3821608 , 0.38537688, 0.38859296, 0.39180905, 0.39502513,\n",
              "       0.39824121, 0.40145729, 0.40467337, 0.40788945, 0.41110553,\n",
              "       0.41432161, 0.41753769, 0.42075377, 0.42396985, 0.42718593,\n",
              "       0.43040201, 0.43361809, 0.43683417, 0.44005025, 0.44326633,\n",
              "       0.44648241, 0.44969849, 0.45291457, 0.45613065, 0.45934673,\n",
              "       0.46256281, 0.46577889, 0.46899497, 0.47221106, 0.47542714,\n",
              "       0.47864322, 0.4818593 , 0.48507538, 0.48829146, 0.49150754,\n",
              "       0.49472362, 0.4979397 , 0.50115578, 0.50437186, 0.50758794,\n",
              "       0.51080402, 0.5140201 , 0.51723618, 0.52045226, 0.52366834,\n",
              "       0.52688442, 0.5301005 , 0.53331658, 0.53653266, 0.53974874,\n",
              "       0.54296482, 0.5461809 , 0.54939698, 0.55261307, 0.55582915,\n",
              "       0.55904523, 0.56226131, 0.56547739, 0.56869347, 0.57190955,\n",
              "       0.57512563, 0.57834171, 0.58155779, 0.58477387, 0.58798995,\n",
              "       0.59120603, 0.59442211, 0.59763819, 0.60085427, 0.60407035,\n",
              "       0.60728643, 0.61050251, 0.61371859, 0.61693467, 0.62015075,\n",
              "       0.62336683, 0.62658291, 0.62979899, 0.63301508, 0.63623116,\n",
              "       0.63944724, 0.64266332, 0.6458794 , 0.64909548, 0.65231156,\n",
              "       0.65552764, 0.65874372, 0.6619598 , 0.66517588, 0.66839196,\n",
              "       0.67160804, 0.67482412, 0.6780402 , 0.68125628, 0.68447236,\n",
              "       0.68768844, 0.69090452, 0.6941206 , 0.69733668, 0.70055276,\n",
              "       0.70376884, 0.70698492, 0.71020101, 0.71341709, 0.71663317,\n",
              "       0.71984925, 0.72306533, 0.72628141, 0.72949749, 0.73271357,\n",
              "       0.73592965, 0.73914573, 0.74236181, 0.74557789, 0.74879397,\n",
              "       0.75201005, 0.75522613, 0.75844221, 0.76165829, 0.76487437,\n",
              "       0.76809045, 0.77130653, 0.77452261, 0.77773869, 0.78095477,\n",
              "       0.78417085, 0.78738693, 0.79060302, 0.7938191 , 0.79703518,\n",
              "       0.80025126, 0.80346734, 0.80668342, 0.8098995 , 0.81311558,\n",
              "       0.81633166, 0.81954774, 0.82276382, 0.8259799 , 0.82919598,\n",
              "       0.83241206, 0.83562814, 0.83884422, 0.8420603 , 0.84527638,\n",
              "       0.84849246, 0.85170854, 0.85492462, 0.8581407 , 0.86135678,\n",
              "       0.86457286, 0.86778894, 0.87100503, 0.87422111, 0.87743719,\n",
              "       0.88065327, 0.88386935, 0.88708543, 0.89030151, 0.89351759,\n",
              "       0.89673367, 0.89994975, 0.90316583, 0.90638191, 0.90959799,\n",
              "       0.91281407, 0.91603015, 0.91924623, 0.92246231, 0.92567839,\n",
              "       0.92889447, 0.93211055, 0.93532663, 0.93854271, 0.94175879,\n",
              "       0.94497487, 0.94819095, 0.95140704, 0.95462312, 0.9578392 ,\n",
              "       0.96105528, 0.96427136, 0.96748744, 0.97070352, 0.9739196 ,\n",
              "       0.97713568, 0.98035176, 0.98356784, 0.98678392, 0.99      ])"
            ]
          },
          "metadata": {},
          "execution_count": 3360
        }
      ]
    },
    {
      "cell_type": "markdown",
      "source": [
        "CORRELAÇÃO CHEN"
      ],
      "metadata": {
        "id": "y_G49qHy22vg"
      }
    },
    {
      "cell_type": "code",
      "source": [
        "def correlacao_chen(x,fluid):\n",
        "  # Fluido e condições de operação\n",
        "  fluid = fluid\n",
        "  T_sat = T_evap  # Temperatura de saturação em K (100 °C)\n",
        "  Te = 8        # Superaquecimento da parede (T_wall - T_sat) em K         # Título de vapor\n",
        "  # Derivada da pressão de saturação em função da temperatura (dPsat/dT)\n",
        "  delta_T = 0.01  # K\n",
        "  p1 = PropsSI('P', 'T', T_sat - delta_T, 'Q', 0, fluid)\n",
        "  p2 = PropsSI('P', 'T', T_sat + delta_T, 'Q', 0, fluid)\n",
        "  dPsat = (p2 - p1) / (2 * delta_T)  # Pa/K\n",
        "\n",
        "  # Cálculo do coeficiente de convecção\n",
        "  h = (bf.Chen_Bennett(vazao_massica_refri, x, diam_interno_serp, rhol, rhog, mul, mug, kl, Cpl, Hvap, sigma, dPsat, Te))\n",
        "  return h\n"
      ],
      "metadata": {
        "id": "LEF6vB8p0N3Y"
      },
      "execution_count": 3361,
      "outputs": []
    },
    {
      "cell_type": "markdown",
      "source": [
        "CORRELAÇÃO CHURCHILL BERNSTEIN"
      ],
      "metadata": {
        "id": "H3QKXQzPKCyd"
      }
    },
    {
      "cell_type": "code",
      "source": [
        "def correlacao_churchill_bernstein(Re, Pr):\n",
        "  nu_ext = ht.conv_external.Nu_cylinder_Churchill_Bernstein(Re, Pr)\n",
        "  h_externo = ((nu_ext*k_arrefecimento/(dext_serp)))\n",
        "  # h_externo = (nu_ext*k_arrefecimento/(diam_hel_serp))\n",
        "  return h_externo"
      ],
      "metadata": {
        "id": "us47sILz7buU"
      },
      "execution_count": 3362,
      "outputs": []
    },
    {
      "cell_type": "code",
      "source": [
        "def correlacao_dittus_boelter(Re, Pr,k):\n",
        "\n",
        "  Nu = ht.conv_internal.turbulent_Dittus_Boelter(Re, Pr, heating=False, revised=True)\n",
        "  h = ((Nu*k/diam_interno_serp))\n",
        "  return h\n"
      ],
      "metadata": {
        "id": "t_sfDRKmPOBu"
      },
      "execution_count": 3363,
      "outputs": []
    },
    {
      "cell_type": "code",
      "source": [
        "L_evap_vapor = 0\n",
        "for i in range(len(T_range_superaquecimento)-1):\n",
        "  Q_sup = vazao_massica_refri*PropsSI('C', 'T', (T_range_superaquecimento[i]+T_range_superaquecimento[i+1])/2, 'P', P_entrada_evap, 'R22')*(T_range_superaquecimento[i+1]-T_range_superaquecimento[i])\n",
        "  velocidade_refrigerante_vapor = vazao_massica_refri/((np.pi*(diam_interno_serp**2)/4)*(PropsSI('D', 'T', T_range_superaquecimento[i]+T_range_superaquecimento[i+1]/2, 'P', P_entrada_evap, 'R22')))\n",
        "  reynolds_vapor_refr = (velocidade_refrigerante_vapor*diam_interno_serp*PropsSI('D', 'T', (T_range_superaquecimento[i]+T_range_superaquecimento[i+1])/2, 'P', P_entrada_evap, 'R22'))/(PropsSI('V', 'T', (T_range_superaquecimento[i]+T_range_superaquecimento[i+1])/2, 'P', P_entrada_evap, 'R22'))\n",
        "  # print(reynolds_vapor_refr)\n",
        "  Pr_vapor = (PropsSI('C', 'T', (T_range_superaquecimento[i]+T_range_superaquecimento[i+1])/2, 'P', P_entrada_evap, 'R22')*PropsSI('V', 'T', (T_range_superaquecimento[i]+T_range_superaquecimento[i+1])/2, 'P', P_entrada_evap, 'R22'))/ (PropsSI('L', 'T', (T_range_superaquecimento[i]+T_range_superaquecimento[i+1])/2, 'P', P_entrada_evap, 'R22'))\n",
        "  dtml = abs((T_range_superaquecimento[i+1]-T_range_superaquecimento[i])/(np.log(abs((T_alvo_arrefecimento-T_range_superaquecimento[i]))/abs((T_alvo_arrefecimento-T_range_superaquecimento[i+1])))))\n",
        "  L_evap_vapor_temp = Q_sup*(((np.log(dext_serp/diam_interno_serp))/(2*np.pi*k_inox))+(1/correlacao_dittus_boelter(reynolds_vapor_refr, Pr_vapor,PropsSI('L', 'T', (T_range_superaquecimento[i]+T_range_superaquecimento[i+1])/2, 'P', P_entrada_evap, 'R22'))*np.pi*diam_interno_serp))+(1/(correlacao_churchill_bernstein(Re_ext_serp, Pr_ext_serp)*np.pi*dext_serp))*(1/(dtml))\n",
        "  L_evap_vapor = L_evap_vapor + L_evap_vapor_temp\n",
        "print(Re_ext_serp)\n",
        "L_evap_vapor"
      ],
      "metadata": {
        "colab": {
          "base_uri": "https://localhost:8080/"
        },
        "id": "w2WUirF9Pwjz",
        "outputId": "0991a38d-93df-49d7-81b5-022d566c124c"
      },
      "execution_count": 3364,
      "outputs": [
        {
          "output_type": "stream",
          "name": "stdout",
          "text": [
            "11.308998311485336\n"
          ]
        },
        {
          "output_type": "execute_result",
          "data": {
            "text/plain": [
              "np.float64(2.2430803580905474)"
            ]
          },
          "metadata": {},
          "execution_count": 3364
        }
      ]
    },
    {
      "cell_type": "code",
      "source": [
        "L_evap = 0\n",
        "for i in range(len(x)-1):\n",
        "  Q_lat_refr = vazao_massica_refri*(((PropsSI(\"H\", \"T\", T_evap, \"Q\", x[i+1], \"R22\")) - PropsSI(\"H\", \"T\", T_evap, \"Q\", x[i], \"R22\")))\n",
        "  L_evap_temp = Q_lat_refr*(((np.log(dext_serp/diam_interno_serp))/(2*np.pi*k_inox))+(1/(correlacao_chen(x[i],'R22')*np.pi*diam_interno_serp))+(1/(correlacao_churchill_bernstein(Re_ext_serp, Pr_ext_serp)*np.pi*dext_serp)))*(1/(T_alvo_arrefecimento-T_evap))\n",
        "  L_evap = L_evap + L_evap_temp\n",
        "L_evap"
      ],
      "metadata": {
        "colab": {
          "base_uri": "https://localhost:8080/"
        },
        "id": "ZDpk5wasIvjM",
        "outputId": "220473d2-aed8-459b-a65a-f9170daf42ba"
      },
      "execution_count": 3365,
      "outputs": [
        {
          "output_type": "execute_result",
          "data": {
            "text/plain": [
              "np.float64(39.96473116091078)"
            ]
          },
          "metadata": {},
          "execution_count": 3365
        }
      ]
    },
    {
      "cell_type": "code",
      "source": [
        "L_serpentina = L_evap+L_evap_vapor\n",
        "L_serpentina"
      ],
      "metadata": {
        "colab": {
          "base_uri": "https://localhost:8080/"
        },
        "id": "2lwqf9M3PEj2",
        "outputId": "5695876c-a3c2-44e0-fe22-f420225be7f2"
      },
      "execution_count": 3366,
      "outputs": [
        {
          "output_type": "execute_result",
          "data": {
            "text/plain": [
              "np.float64(42.207811519001325)"
            ]
          },
          "metadata": {},
          "execution_count": 3366
        }
      ]
    },
    {
      "cell_type": "markdown",
      "source": [
        "Cálculo região de superaquecimento"
      ],
      "metadata": {
        "id": "jEruJhTHwlma"
      }
    },
    {
      "cell_type": "markdown",
      "source": [
        "#Dimensionamento tubos colméia"
      ],
      "metadata": {
        "id": "YltJzYkt4e6L"
      }
    },
    {
      "cell_type": "markdown",
      "source": [
        "#Função para definição da viscosidade dinâmica do biogás em função da temperatura e pressão"
      ],
      "metadata": {
        "id": "WWLRJxtwj3Mn"
      }
    },
    {
      "cell_type": "code",
      "source": [
        "def visc_dinamica_biogas(P_biogas,T_biogas):\n",
        "   massa_molar_total = 0\n",
        "   visc_dinamica_biogas = 0\n",
        "   for elementos in fracoes_volumetricas:\n",
        "    massa_molar_total = massa_molar_total + fracoes_volumetricas[elementos]*PropsSI('M', 'T', T_biogas, 'P', P_biogas, elementos)\n",
        "   #print(massa_molar_total)\n",
        "   for elementos in fracoes_volumetricas:\n",
        "    visc_dinamica_biogas = visc_dinamica_biogas + (((PropsSI('M', 'T', T_biogas, 'P', P_biogas*fracoes_volumetricas[elementos], elementos)*fracoes_volumetricas[elementos])/massa_molar_total)*PropsSI('V', 'T', T_biogas, 'P', P_biogas*fracoes_volumetricas[elementos], elementos))\n",
        "   return visc_dinamica_biogas"
      ],
      "metadata": {
        "id": "zhpF4_UBy4LC"
      },
      "execution_count": 3367,
      "outputs": []
    },
    {
      "cell_type": "markdown",
      "source": [
        "#Função para definição da condutividade térmica do biogás em função da temperatura e pressão"
      ],
      "metadata": {
        "id": "th5Og5Dhj_8L"
      }
    },
    {
      "cell_type": "code",
      "source": [
        "def condutividade_biogas(P_biogas,T_biogas):\n",
        "   massa_molar_total = 0\n",
        "   condutividade_biogas = 0\n",
        "   for elementos in fracoes_volumetricas:\n",
        "    massa_molar_total = massa_molar_total + fracoes_volumetricas[elementos]*PropsSI('M', 'T', T_biogas, 'P', P_biogas, elementos)\n",
        "   #print(massa_molar_total)\n",
        "   for elementos in fracoes_volumetricas:\n",
        "    condutividade_biogas = condutividade_biogas + (((PropsSI('M', 'T', T_biogas, 'P', P_biogas*fracoes_volumetricas[elementos], elementos)*fracoes_volumetricas[elementos])/massa_molar_total)*PropsSI('L', 'T', T_biogas, 'P', P_biogas*fracoes_volumetricas[elementos], elementos))\n",
        "   return condutividade_biogas"
      ],
      "metadata": {
        "id": "-W-ALvLw1gEI"
      },
      "execution_count": 3368,
      "outputs": []
    },
    {
      "cell_type": "markdown",
      "source": [
        "#Função para definição de densidade do biogás em função da temperatura e pressão"
      ],
      "metadata": {
        "id": "i8xt1VWDkKQ2"
      }
    },
    {
      "cell_type": "code",
      "source": [
        "def densidade_biogas(P_biogas,T_biogas):\n",
        "   massa_molar_total = 0\n",
        "   densidade_biogas = 0\n",
        "   for elementos in fracoes_volumetricas:\n",
        "    massa_molar_total = massa_molar_total + fracoes_volumetricas[elementos]*PropsSI('M', 'T', T_biogas, 'P', P_biogas, elementos)\n",
        "   #print(massa_molar_total)\n",
        "   densidade_biogas = (P_biogas*massa_molar_total)/(8.314*T_biogas)\n",
        "   return densidade_biogas"
      ],
      "metadata": {
        "id": "1JeAUvPt4FvX"
      },
      "execution_count": 3369,
      "outputs": []
    },
    {
      "cell_type": "code",
      "source": [
        "P_entrada_biogas\n",
        "T_entrada_biogas"
      ],
      "metadata": {
        "colab": {
          "base_uri": "https://localhost:8080/"
        },
        "id": "MsINsx7Fz1uY",
        "outputId": "9a34c74b-c799-403d-b05b-e6768bb06252"
      },
      "execution_count": 3370,
      "outputs": [
        {
          "output_type": "execute_result",
          "data": {
            "text/plain": [
              "347.95"
            ]
          },
          "metadata": {},
          "execution_count": 3370
        }
      ]
    },
    {
      "cell_type": "code",
      "source": [
        "# Rt_cond_tubos = np.log(dext_tubos/dint_tubos)/(2*np.pi*k_inox)\n",
        "# vazao_massica_tubos = (vazao_massica_biogas/N)\n",
        "# print(vazao_massica_biogas)\n",
        "# print(vazao_massica_tubos)\n",
        "# Q=0\n",
        "# L_tubos_sen = 0\n",
        "# divisoes = 100\n",
        "# T = np.linspace(T_entrada_biogas,T_alvo_biogas,divisoes)\n",
        "# print(P_entrada_biogas)\n",
        "# for i in range(len(T)-1):\n",
        "#   vel_tubos = (vazao_massica_tubos/(((densidade_biogas(P_entrada_biogas,(T[i+1]+T[i])/2)))*A_int_tubos))\n",
        "#   # print(vel_tubos)\n",
        "#   reynolds_biogas_sens = ((vel_tubos*dint_tubos*densidade_biogas(P_entrada_biogas,(T[i+1]+T[i])/2)))/(visc_dinamica_biogas(P_entrada_biogas,(T[i+1]+T[i])/2))\n",
        "#   # print(reynolds_biogas_sens)\n",
        "#   Pr_biogas_sens = (cp_biogas(P_entrada_biogas,(T[i+1]+T[i])/2) *visc_dinamica_biogas(P_entrada_biogas,(T[i+1]+T[i])/2) )/(condutividade_biogas(P_entrada_biogas,(T[i+1]+T[i])/2))\n",
        "\n",
        "#   nud_db_biogas_sens = 0.023*(reynolds_biogas_sens**(0.8))*(Pr_biogas_sens**(0.4))\n",
        "#   nud_db_biogas_sens\n",
        "#   h_conv_tubos_sens = (nud_db_biogas_sens*condutividade_biogas(P_entrada_biogas,(T[i+1]+T[i])/2)/(dint_tubos))*1.3\n",
        "#   fator_atrito = (64/reynolds_biogas_sens)\n",
        "\n",
        "#   # print(h_conv_tubos_sens)\n",
        "#   # print(h_conv_tubos_sens)\n",
        "#   Rt_conv_tubos = (1/(h_conv_tubos_sens*np.pi*dint_tubos))\n",
        "#   Q_bio_sens = vazao_massica_tubos*cp_biogas(P_entrada_biogas,(T[i+1]+T[i])/2)*(-T[i+1]+T[i])\n",
        "#   L = Q_bio_sens*(Rt_cond_tubos+Rt_conv_tubos)/((((T[i+1]+T[i])/2)-T_alvo_arrefecimento))\n",
        "#   Q = Q_bio_sens + Q\n",
        "#   L_tubos_sen = L_tubos_sen + L\n",
        "#   queda_pressao = fator_atrito*L*densidade_biogas(P_entrada_biogas,(T[i+1]+T[i])/2)*(vel_tubos**2)/(2*dint_tubos)\n",
        "#   P_entrada_biogas = P_entrada_biogas - queda_pressao\n",
        "#   # print(queda_pressao)\n",
        "#   # print(Q\n",
        "#   L =0\n",
        "#   # print(Q)\n",
        "# print(L_tubos_sen)\n",
        "# print(P_entrada_biogas)\n",
        "# print(Q)"
      ],
      "metadata": {
        "id": "8s2IORiWhVBQ"
      },
      "execution_count": 3371,
      "outputs": []
    },
    {
      "cell_type": "markdown",
      "source": [
        "CÁLCULO COMPRIMENTO COLMÉIA"
      ],
      "metadata": {
        "id": "i3f4QPE9l_0Z"
      }
    },
    {
      "cell_type": "code",
      "source": [
        "NT = 8\n",
        "ST = 30/1000\n",
        "SL = 30/1000"
      ],
      "metadata": {
        "id": "B14ZPAAxswzR"
      },
      "execution_count": 3372,
      "outputs": []
    },
    {
      "cell_type": "code",
      "source": [
        "def correlacao_zukauskas_bejan(Re, Pr, tube_rows, pitch_parallel, pitch_normal):\n",
        "  Nu = ht.conv_tube_bank.Nu_Zukauskas_Bejan(Re, Pr, tube_rows, pitch_parallel, pitch_normal, Pr_wall=None)\n",
        "  h = (Nu*k_arrefecimento/(dext_tubos))\n",
        "  return h"
      ],
      "metadata": {
        "id": "6_ykEUcrn9Z7"
      },
      "execution_count": 3373,
      "outputs": []
    },
    {
      "cell_type": "code",
      "source": [
        "  # dtml_biogas = (T[i]-T[i+1])/(np.log((T[i]-T_alvo_arrefecimento)/(T[i+1]-T_alvo_arrefecimento)))"
      ],
      "metadata": {
        "id": "gUt_L4MpVEC1"
      },
      "execution_count": 3374,
      "outputs": []
    },
    {
      "cell_type": "markdown",
      "source": [
        "COMPRIMENTO SEM CONSIDERAR CONDENSAÇÃO DA ÁGUA"
      ],
      "metadata": {
        "id": "DaKXcxb6wj3V"
      }
    },
    {
      "cell_type": "code",
      "source": [
        "Rt_cond_tubos = np.log(dext_tubos/dint_tubos)/(2*np.pi*k_inox)\n",
        "vazao_massica_tubos = (vazao_massica_biogas/N)\n",
        "print(vazao_massica_biogas)\n",
        "print(vazao_massica_tubos)\n",
        "Q=0\n",
        "L_tubos_sen = 0\n",
        "T = np.linspace(T_entrada_biogas,T_alvo_biogas,divisoes)\n",
        "for i in range(len(T)-1):\n",
        "  vel_tubos = (vazao_massica_tubos/(((densidade_biogas(P_entrada_biogas,(T[i+1]+T[i])/2)))*A_int_tubos))\n",
        "  reynolds_biogas_sens = ((vel_tubos*dint_tubos*densidade_biogas(P_entrada_biogas,(T[i+1]+T[i])/2)))/(visc_dinamica_biogas(P_entrada_biogas,(T[i+1]+T[i])/2))\n",
        "  Pr_biogas_sens = (cp_biogas(P_entrada_biogas,(T[i+1]+T[i])/2) *visc_dinamica_biogas(P_entrada_biogas,(T[i+1]+T[i])/2) )/(condutividade_biogas(P_entrada_biogas,(T[i+1]+T[i])/2))\n",
        "  print(reynolds_biogas_sens)\n",
        "  # Rt_conv_int_tubos = 1/(correlacao_dittus_boelter(reynolds_biogas_sens,Pr_biogas_sens,condutividade_biogas(P_entrada_biogas,(T[i+1]+T[i])/2))*np.pi*dint_tubos)\n",
        "  Rt_conv_int_tubos = 1/(3.66*np.pi*dint_tubos)\n",
        "  Rt_conv_ext_tubos = (1/(correlacao_zukauskas_bejan(Re_casco,Pr_casco,NT,ST,SL)*np.pi*dext_tubos))\n",
        "  Q_bio_sens = vazao_massica_tubos*cp_biogas(P_entrada_biogas,(T[i+1]+T[i])/2)*(-T[i+1]+T[i])\n",
        "  L = Q_bio_sens*(Rt_conv_int_tubos+Rt_cond_tubos+Rt_conv_ext_tubos)/((((T[i+1]+T[i])/2)-T_alvo_arrefecimento))\n",
        "  Q = Q_bio_sens + Q\n",
        "  L_tubos_sen = L_tubos_sen + L\n",
        "L_tubos_sen"
      ],
      "metadata": {
        "colab": {
          "base_uri": "https://localhost:8080/"
        },
        "id": "a6MHTFiNlDUl",
        "outputId": "b41a1467-9279-49cd-f6d9-571ad11e2e8c"
      },
      "execution_count": 3375,
      "outputs": [
        {
          "output_type": "stream",
          "name": "stdout",
          "text": [
            "0.021480287425302266\n",
            "0.0003254589003833677\n",
            "1200.8343429438014\n",
            "1201.498239359753\n",
            "1202.1630761965641\n",
            "1202.8288555326922\n",
            "1203.495579452757\n",
            "1204.1632500475587\n",
            "1204.831869414106\n",
            "1205.501439655636\n",
            "1206.1719628816377\n",
            "1206.8434412078755\n",
            "1207.5158767564144\n",
            "1208.1892716556379\n",
            "1208.8636280402784\n",
            "1209.538948051436\n",
            "1210.2152338366036\n",
            "1210.8924875496914\n",
            "1211.5707113510507\n",
            "1212.2499074074956\n",
            "1212.9300778923312\n",
            "1213.6112249853745\n",
            "1214.2933508729795\n",
            "1214.9764577480626\n",
            "1215.6605478101262\n",
            "1216.3456232652848\n",
            "1217.0316863262874\n",
            "1217.7187392125445\n",
            "1218.4067841501526\n",
            "1219.095823371918\n",
            "1219.7858591173838\n",
            "1220.4768936328546\n",
            "1221.1689291714217\n",
            "1221.8619679929877\n",
            "1222.5560123642967\n",
            "1223.251064558953\n",
            "1223.9471268574525\n",
            "1224.6442015472069\n",
            "1225.3422909225699\n",
            "1226.0413972848633\n",
            "1226.7415229424032\n",
            "1227.4426702105284\n",
            "1228.144841411623\n",
            "1228.8480388751484\n",
            "1229.5522649376655\n",
            "1230.2575219428647\n",
            "1230.963812241591\n",
            "1231.6711381918728\n",
            "1232.3795021589494\n",
            "1233.0889065152949\n",
            "1233.7993536406527\n",
            "1234.5108459220542\n",
            "1235.2233857538563\n",
            "1235.9369755377618\n",
            "1236.6516176828518\n",
            "1237.3673146056115\n",
            "1238.0840687299597\n",
            "1238.8018824872772\n",
            "1239.5207583164372\n",
            "1240.2406986638289\n",
            "1240.9617059833927\n",
            "1241.683782736645\n",
            "1242.4069313927084\n",
            "1243.1311544283415\n",
            "1243.8564543279688\n",
            "1244.582833583708\n",
            "1245.3102946954027\n",
            "1246.0388401706493\n",
            "1246.7684725248298\n",
            "1247.4991942811387\n",
            "1248.2310079706174\n",
            "1248.96391613218\n",
            "1249.6979213126472\n",
            "1250.433026066775\n",
            "1251.169232957287\n",
            "1251.9065445549043\n",
            "1252.644963438378\n",
            "1253.3844921945172\n",
            "1254.125133418224\n",
            "1254.8668897125237\n",
            "1255.609763688595\n",
            "1256.3537579658052\n",
            "1257.0988751717382\n",
            "1257.845117942229\n",
            "1258.5924889213968\n",
            "1259.3409907616735\n",
            "1260.0906261238422\n",
            "1260.841397677063\n",
            "1261.5933080989114\n",
            "1262.34636007541\n",
            "1263.10055630106\n",
            "1263.8558994788743\n",
            "1264.6123923204154\n",
            "1265.3700375458227\n",
            "1266.1288378838512\n",
            "1266.888796071904\n",
            "1267.6499148560645\n",
            "1268.412196991134\n",
            "1269.1756452406628\n",
            "1269.940262376988\n",
            "1270.706051181266\n",
            "1271.473014443509\n",
            "1272.2411549626174\n",
            "1273.0104755464179\n",
            "1273.780979011698\n",
            "1274.5526681842416\n",
            "1275.325545898864\n",
            "1276.0996149994492\n",
            "1276.8748783389854\n",
            "1277.6513387795994\n",
            "1278.4289991925964\n",
            "1279.2078624584935\n",
            "1279.987931467061\n",
            "1280.7692091173528\n",
            "1281.5516983177479\n",
            "1282.335401985988\n",
            "1283.1203230492129\n",
            "1283.9064644439995\n",
            "1284.6938291163992\n",
            "1285.482420021974\n",
            "1286.2722401258404\n",
            "1287.0632924026993\n",
            "1287.8555798368843\n",
            "1288.6491054223923\n",
            "1289.4438721629256\n",
            "1290.2398830719317\n",
            "1291.0371411726428\n",
            "1291.8356494981128\n",
            "1292.6354110912584\n",
            "1293.4364290049007\n",
            "1294.2387063018025\n",
            "1295.0422460547106\n",
            "1295.8470513463944\n",
            "1296.6531252696893\n",
            "1297.460470927534\n",
            "1298.2690914330144\n",
            "1299.0789899094036\n",
            "1299.8901694902029\n",
            "1300.7026333191848\n",
            "1301.5163845504337\n",
            "1302.3314263483892\n",
            "1303.1477618878864\n",
            "1303.9653943542\n",
            "1304.784326943087\n",
            "1305.604562860827\n",
            "1306.4261053242687\n",
            "1307.2489575608727\n",
            "1308.0731228087507\n",
            "1308.898604316716\n",
            "1309.725405344322\n",
            "1310.5535291619078\n",
            "1311.3829790506445\n",
            "1312.213758302577\n",
            "1313.0458702206697\n",
            "1313.8793181188532\n",
            "1314.7141053220673\n",
            "1315.550235166306\n",
            "1316.3877109986656\n",
            "1317.2265361773902\n",
            "1318.0667140719138\n",
            "1318.9082480629131\n",
            "1319.751141542349\n",
            "1320.595397913514\n",
            "1321.4410205910826\n",
            "1322.2880130011552\n",
            "1323.1363785813046\n",
            "1323.9861207806293\n",
            "1324.8372430597954\n",
            "1325.689748891086\n",
            "1326.5436417584544\n",
            "1327.3989251575658\n",
            "1328.2556025958515\n",
            "1329.113677592555\n",
            "1329.9731536787822\n",
            "1330.8340343975522\n",
            "1331.6963233038448\n",
            "1332.5600239646535\n",
            "1333.425139959034\n",
            "1334.2916748781536\n",
            "1335.1596323253455\n",
            "1336.029015916157\n",
            "1336.8998292784015\n",
            "1337.7720760522113\n",
            "1338.6457598900886\n",
            "1339.5208844569572\n",
            "1340.3974534302158\n",
            "1341.2754704997888\n",
            "1342.154939368183\n",
            "1343.035863750537\n",
            "1343.918247374676\n",
            "1344.802093981165\n",
            "1345.6874073233641\n",
            "1346.5741911674827\n",
            "1347.462449292633\n",
            "1348.352185490882\n",
            "1349.243403567315\n",
            "1350.1361073400797\n",
            "1351.030300640453\n",
            "1351.9259873128888\n",
            "1352.8231712150762\n",
            "1353.7218562179992\n"
          ]
        },
        {
          "output_type": "execute_result",
          "data": {
            "text/plain": [
              "np.float64(1.8951224760426981)"
            ]
          },
          "metadata": {},
          "execution_count": 3375
        }
      ]
    },
    {
      "cell_type": "markdown",
      "source": [
        "COMPRIMENTO PARA CONDENSAR VAPOR D'ÁGUA"
      ],
      "metadata": {
        "id": "eDZiM-zD0kPF"
      }
    },
    {
      "cell_type": "code",
      "source": [
        "# Propriedades obtidas na linha de saturação\n",
        "rhol_vp_agua = PropsSI('D', 'T', T_alvo_biogas, 'Q', 0, 'Water')       # kg/m³\n",
        "rhog_vp_agua = PropsSI('D', 'T', T_alvo_biogas, 'Q', 1, 'Water')       # kg/m³\n",
        "mul_vp_agua  = PropsSI('V', 'T', T_alvo_biogas, 'Q', 0, 'Water')       # Pa.s\n",
        "mug_vp_agua  = PropsSI('V', 'T', T_alvo_biogas, 'Q', 1, 'Water')       # Pa.s\n",
        "kl_vp_agua   = PropsSI('L', 'T', T_alvo_biogas, 'Q', 0, 'Water')       # W/m.K\n",
        "Cpl_vp_agua  = PropsSI('C', 'T', T_alvo_biogas, 'Q', 0, 'Water')       # J/kg.K\n",
        "Hvap_vp_agua = PropsSI('H', 'T', T_alvo_biogas, 'Q', 1, 'Water') - \\\n",
        "      PropsSI('H', 'T', T_alvo_biogas, 'Q', 0, 'Water')       # J/kg\n",
        "sigma_vp_agua = PropsSI('SURFACE_TENSION', 'T', T_alvo_biogas, 'Q', 0, 'Water')  # N/m"
      ],
      "metadata": {
        "id": "CUqte4Ft9Oz_"
      },
      "execution_count": 3376,
      "outputs": []
    },
    {
      "cell_type": "code",
      "source": [
        "def correlacao_chen_vapor_agua(x,fluid):\n",
        "  # Fluido e condições de operação\n",
        "  fluid = fluid\n",
        "  T_sat = T_alvo_biogas  # Temperatura de saturação em K (100 °C)\n",
        "  Te = 8        # Superaquecimento da parede (T_wall - T_sat) em K         # Título de vapor\n",
        "  # Derivada da pressão de saturação em função da temperatura (dPsat/dT)\n",
        "  delta_T = 0.01  # K\n",
        "  p1 = PropsSI('P', 'T', T_sat - delta_T, 'Q', 0, fluid)\n",
        "  p2 = PropsSI('P', 'T', T_sat + delta_T, 'Q', 0, fluid)\n",
        "  dPsat = (p2 - p1) / (2 * delta_T)  # Pa/K\n",
        "\n",
        "  # Cálculo do coeficiente de convecção\n",
        "  h = (bf.Chen_Bennett(vazao_massica_vapor_agua, x, dint_tubos, rhol_vp_agua, rhog_vp_agua, mul_vp_agua, mug_vp_agua, kl_vp_agua, Cpl_vp_agua, Hvap_vp_agua, sigma_vp_agua, dPsat, Te))\n",
        "  return h"
      ],
      "metadata": {
        "id": "C1kcoJ-F6tUI"
      },
      "execution_count": 3377,
      "outputs": []
    },
    {
      "cell_type": "code",
      "source": [
        "L_tubo_condensacao = 0\n",
        "Q_cond= 0\n",
        "x_vapor_agua = np.linspace(0.01,0.99,divisoes)\n",
        "vazao_massica_vapor_agua = (vazao_massica_biogas*((PropsSI('M', 'T', T_alvo_biogas, 'P', P_entrada_biogas*fracoes_volumetricas['Water'], 'Water')*fracoes_volumetricas['Water'])/massa_molar_total))/N\n",
        "for i in range(len(x)-1):\n",
        "  Q_lat_vapor_agua = vazao_massica_vapor_agua*(((PropsSI(\"H\", \"T\", T_alvo_biogas, \"Q\", x_vapor_agua[i+1], \"Water\")) - PropsSI(\"H\", \"T\", T_alvo_biogas, \"Q\", x_vapor_agua[i], \"Water\")))\n",
        "  L_tubo_condensacao_temp = Q_lat_vapor_agua*(((np.log(dext_tubos/dint_tubos))/(2*np.pi*k_inox))+(1/(correlacao_chen_vapor_agua(x_vapor_agua[i],'Water')*np.pi*dint_tubos))+((1/(correlacao_zukauskas_bejan(Re_ext_tubos,Pr_ext_tubos,NT,ST,SL)*np.pi*dext_tubos))))*(1/(-T_alvo_arrefecimento+T_alvo_biogas))\n",
        "  L_tubo_condensacao = L_tubo_condensacao + L_tubo_condensacao_temp\n",
        "  Q_cond = Q_cond + Q_lat_vapor_agua\n",
        "L_tubo_condensacao\n",
        "print(L_tubo_condensacao)\n",
        "print(Q_cond)"
      ],
      "metadata": {
        "colab": {
          "base_uri": "https://localhost:8080/"
        },
        "id": "9AfASfCq0pqA",
        "outputId": "f5d336ca-d863-4e69-b016-d34bc105967b"
      },
      "execution_count": 3378,
      "outputs": [
        {
          "output_type": "stream",
          "name": "stdout",
          "text": [
            "0.0572917090087992\n",
            "8.260048489987652\n"
          ]
        }
      ]
    },
    {
      "cell_type": "code",
      "source": [
        "L_tubos = L_tubos_sen + L_tubo_condensacao\n",
        "L_tubos"
      ],
      "metadata": {
        "colab": {
          "base_uri": "https://localhost:8080/"
        },
        "id": "y5e7F867-5p-",
        "outputId": "1c17687d-af7d-4f38-c7a6-d881dd0eff37"
      },
      "execution_count": 3379,
      "outputs": [
        {
          "output_type": "execute_result",
          "data": {
            "text/plain": [
              "np.float64(1.9524141850514973)"
            ]
          },
          "metadata": {},
          "execution_count": 3379
        }
      ]
    },
    {
      "cell_type": "code",
      "source": [
        "L_serpentina"
      ],
      "metadata": {
        "colab": {
          "base_uri": "https://localhost:8080/"
        },
        "id": "XWHiEGFcACI8",
        "outputId": "3a717a77-127b-48ec-84fb-1d8f39e4d8ac"
      },
      "execution_count": 3380,
      "outputs": [
        {
          "output_type": "execute_result",
          "data": {
            "text/plain": [
              "np.float64(42.207811519001325)"
            ]
          },
          "metadata": {},
          "execution_count": 3380
        }
      ]
    },
    {
      "cell_type": "code",
      "source": [
        "cp_aco = 486\n",
        "rho_aco = 8000"
      ],
      "metadata": {
        "id": "vxJ_X38uO7xd"
      },
      "execution_count": 3381,
      "outputs": []
    },
    {
      "cell_type": "code",
      "source": [
        "Q_aco = (((np.pi/4)*((dext_tubos**2)-(dint_tubos**2))*L*N*rho_aco)*cp_aco*(T_ambiente-T_alvo_arrefecimento))/tempo_arrefecimento\n",
        "Q_aco"
      ],
      "metadata": {
        "colab": {
          "base_uri": "https://localhost:8080/"
        },
        "id": "I6uRl8KZO6lW",
        "outputId": "8ca4ae43-37e9-4681-caf2-27d42b610044"
      },
      "execution_count": 3382,
      "outputs": [
        {
          "output_type": "execute_result",
          "data": {
            "text/plain": [
              "np.float64(2.5835854658251596)"
            ]
          },
          "metadata": {},
          "execution_count": 3382
        }
      ]
    }
  ]
}