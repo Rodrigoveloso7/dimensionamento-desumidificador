{
  "nbformat": 4,
  "nbformat_minor": 0,
  "metadata": {
    "colab": {
      "provenance": [],
      "authorship_tag": "ABX9TyPYxtEg90Yn/Q7+CSpf6+b8",
      "include_colab_link": true
    },
    "kernelspec": {
      "name": "python3",
      "display_name": "Python 3"
    },
    "language_info": {
      "name": "python"
    }
  },
  "cells": [
    {
      "cell_type": "markdown",
      "metadata": {
        "id": "view-in-github",
        "colab_type": "text"
      },
      "source": [
        "<a href=\"https://colab.research.google.com/github/Rodrigoveloso7/dimensionamento-desumidificador/blob/main/Dimensionamento_Desumidificador.ipynb\" target=\"_parent\"><img src=\"https://colab.research.google.com/assets/colab-badge.svg\" alt=\"Open In Colab\"/></a>"
      ]
    },
    {
      "cell_type": "code",
      "execution_count": 154,
      "metadata": {
        "id": "aAZx-iASCa5d"
      },
      "outputs": [],
      "source": [
        "import numpy as np\n"
      ]
    },
    {
      "cell_type": "code",
      "source": [
        "# pip install CoolProp"
      ],
      "metadata": {
        "id": "Eazx_csEBzCl"
      },
      "execution_count": 155,
      "outputs": []
    },
    {
      "cell_type": "code",
      "source": [
        "from CoolProp.CoolProp import PropsSI\n"
      ],
      "metadata": {
        "id": "-eKJ7S_TDoa8"
      },
      "execution_count": 156,
      "outputs": []
    },
    {
      "cell_type": "markdown",
      "source": [
        "#Condições de operação Biogás"
      ],
      "metadata": {
        "id": "HJ1idXd6NPj7"
      }
    },
    {
      "cell_type": "code",
      "source": [
        "# pip install ht"
      ],
      "metadata": {
        "id": "rZCsOrB5oh-U"
      },
      "execution_count": 157,
      "outputs": []
    },
    {
      "cell_type": "code",
      "source": [
        "import ht as ht\n",
        "import ht.boiling_flow as bf"
      ],
      "metadata": {
        "id": "J81Mv1oR8oio"
      },
      "execution_count": 158,
      "outputs": []
    },
    {
      "cell_type": "code",
      "source": [
        "fracoes_volumetricas = {\"Methane\":0.637,\"CarbonDioxide\":0.35,\"Water\":0.013}"
      ],
      "metadata": {
        "id": "ms3Qld6vCt7J"
      },
      "execution_count": 159,
      "outputs": []
    },
    {
      "cell_type": "code",
      "source": [
        "P_entrada_biogas = 33.34*1000 # Pa\n",
        "T_entrada_biogas = 273.15+65 # K\n",
        "T_referencia = 273.15 # K\n",
        "P_referencia = 101325 # Pa\n",
        "vazao_normal_biogas = 60 #Nm³/h\n",
        "T_alvo_biogas = 273.15 # K\n",
        "T_alvo_arrefecimento = 273.15-2 # K\n",
        "T_ambiente = 273.15+25 # K\n",
        "P_ambiente = 101325 # Pa"
      ],
      "metadata": {
        "id": "-KMyPMBuFF7k"
      },
      "execution_count": 160,
      "outputs": []
    },
    {
      "cell_type": "markdown",
      "source": [
        "#Propriedades geométricas"
      ],
      "metadata": {
        "id": "sHw1sAugkXVl"
      }
    },
    {
      "cell_type": "code",
      "source": [
        "diam_casco = 330/1000 #metros\n",
        "diam_hel_serp = 270/1000 # m\n",
        "diam_entrada_arrefecimento = 25.4/1000\n",
        "dext_serp = 12.7/1000 # m\n",
        "espessura_serp = 1.2/1000 # m\n",
        "diam_interno_serp = dext_serp-2*espessura_serp # m\n",
        "comprimento_casco = 1995/1000 # metros\n",
        "volume_arrefecimento = ((np.pi*((diam_casco)**2))/4)*comprimento_casco\n",
        "\n",
        "\n"
      ],
      "metadata": {
        "id": "cHK0rrBvkbL9"
      },
      "execution_count": 161,
      "outputs": []
    },
    {
      "cell_type": "markdown",
      "source": [
        "#Condições de operação líquido de arrefecimento"
      ],
      "metadata": {
        "id": "GsfXF6JAlNtp"
      }
    },
    {
      "cell_type": "markdown",
      "source": [
        "https://www.engineeringtoolbox.com/ethylene-glycol-d_146.html\n",
        "\n",
        "Considerando uma mistura 80% água e 20% monoetilenoglicol para obter uma temperatura de solidificação de -7.9C"
      ],
      "metadata": {
        "id": "4lbWKWYpjOix"
      }
    },
    {
      "cell_type": "code",
      "source": [
        "cp_arrefecimento = 3.951*1000 # J/kg.K\n",
        "densidade_arrefecimento = 1030 # kg/m³\n",
        "viscosidade_dinamica_arrefecimento = 1.42/1000 # Pa.s Este valor foi obtido em cima de fracao massica\n",
        "k_arrefecimento = 0.55 # W/mK\n",
        "massa_arrefecimento = volume_arrefecimento*densidade_arrefecimento #kg\n",
        "massa_arrefecimento\n",
        "tempo_arrefecimento = 3600 # segundos"
      ],
      "metadata": {
        "id": "50iz3-ECjxJ3"
      },
      "execution_count": 162,
      "outputs": []
    },
    {
      "cell_type": "code",
      "source": [
        "vazao_volumetrica_bomba = 1.8/3600 #m³/s\n",
        "vazao_massica_bomba = vazao_volumetrica_bomba*densidade_arrefecimento\n",
        "u_casco = vazao_volumetrica_bomba/((np.pi*((diam_entrada_arrefecimento))**(2))/4)\n",
        "u_casco = u_casco*0.5"
      ],
      "metadata": {
        "id": "Qztb_kCztDvJ"
      },
      "execution_count": 163,
      "outputs": []
    },
    {
      "cell_type": "code",
      "source": [
        "vazao_volumetrica_biogas_entrada = (vazao_normal_biogas*(P_referencia/P_entrada_biogas)*(T_entrada_biogas/T_referencia))/3600 #m³/s\n",
        "densidade_operacao_biogas=0\n",
        "massa_molar_total_entrada = 0\n",
        "for elementos in fracoes_volumetricas:\n",
        "    massa_molar_total_entrada = massa_molar_total_entrada + fracoes_volumetricas[elementos]*PropsSI('M', 'T', T_entrada_biogas, 'P', P_entrada_biogas, elementos)\n",
        "densidade_operacao_biogas = (P_entrada_biogas*massa_molar_total_entrada)/(8.314*T_entrada_biogas)\n",
        "vazao_massica_biogas = vazao_volumetrica_biogas_entrada*densidade_operacao_biogas\n"
      ],
      "metadata": {
        "id": "GTxnad2hQHSf"
      },
      "execution_count": 164,
      "outputs": []
    },
    {
      "cell_type": "code",
      "source": [
        "T_sat = 273.15-10\n",
        "fluid = 'R22'\n",
        "divisoes = 100\n",
        "superaquecimento = 8\n",
        "T_range_superaquecimento = np.linspace(T_sat,T_sat+ superaquecimento,divisoes)\n",
        "k_inox = 16\n",
        "Re_casco = (densidade_arrefecimento*u_casco*diam_hel_serp)/(viscosidade_dinamica_arrefecimento)\n",
        "Pr_casco = (cp_arrefecimento*viscosidade_dinamica_arrefecimento)/(k_arrefecimento)"
      ],
      "metadata": {
        "id": "F97GNukQgio1"
      },
      "execution_count": 165,
      "outputs": []
    },
    {
      "cell_type": "code",
      "source": [
        "def cp_biogas(P_biogas,T_biogas):\n",
        "   massa_molar_total = 0\n",
        "   cp_biogas = 0\n",
        "   for elementos in fracoes_volumetricas:\n",
        "    massa_molar_total = massa_molar_total + fracoes_volumetricas[elementos]*PropsSI('M', 'T', T_biogas, 'P', P_biogas, elementos)\n",
        "   #print(massa_molar_total)\n",
        "   for elementos in fracoes_volumetricas:\n",
        "    cp_biogas = cp_biogas + (((PropsSI('M', 'T', T_biogas, 'P', P_biogas*fracoes_volumetricas[elementos], elementos)*fracoes_volumetricas[elementos])/massa_molar_total)*PropsSI('C', 'T', T_biogas, 'P', P_biogas*fracoes_volumetricas[elementos], elementos))\n",
        "   return cp_biogas"
      ],
      "metadata": {
        "id": "r4gcRAoQEa6f"
      },
      "execution_count": 166,
      "outputs": []
    },
    {
      "cell_type": "code",
      "source": [
        "cp_biogas(33.34*1000,338.15)"
      ],
      "metadata": {
        "colab": {
          "base_uri": "https://localhost:8080/"
        },
        "id": "nL6JteKKGykn",
        "outputId": "97c6928e-4110-49d1-8b3c-af756294a774"
      },
      "execution_count": 167,
      "outputs": [
        {
          "output_type": "execute_result",
          "data": {
            "text/plain": [
              "1465.4755020967925"
            ]
          },
          "metadata": {},
          "execution_count": 167
        }
      ]
    },
    {
      "cell_type": "code",
      "source": [
        "def carga_termica():\n",
        "  divisoes = 200\n",
        "  Qsens_biogas = 0\n",
        "  T = np.linspace(T_entrada_biogas,T_alvo_biogas,divisoes)\n",
        "  for i in range(len(T)-1):\n",
        "    cp = cp_biogas(P_entrada_biogas,(T[i]+T[i+1])/2)\n",
        "    Qsens_biogas = vazao_massica_biogas*cp*(T[i] - T[i+1]) + Qsens_biogas\n",
        "    cp= 0\n",
        "  Qlat_biogas = vazao_massica_biogas*(fracoes_volumetricas['Water']*PropsSI('M', 'T', T_entrada_biogas, 'P', P_entrada_biogas, elementos)/massa_molar_total_entrada)*(((PropsSI(\"H\", \"T\", T_alvo_biogas, \"Q\", 1, \"Water\")) - PropsSI(\"H\", \"T\", T_alvo_biogas, \"Q\", 0, \"Water\")))\n",
        "  Q_arrefecimento = massa_arrefecimento*cp_arrefecimento*(T_ambiente - T_alvo_arrefecimento)/tempo_arrefecimento\n",
        "  Qtotal = Qlat_biogas + Qsens_biogas +Q_arrefecimento\n",
        "  return Qtotal,Qlat_biogas,Qsens_biogas,Q_arrefecimento"
      ],
      "metadata": {
        "id": "RWntsFc0PNW2"
      },
      "execution_count": 168,
      "outputs": []
    },
    {
      "cell_type": "code",
      "source": [
        "carga_termica()"
      ],
      "metadata": {
        "colab": {
          "base_uri": "https://localhost:8080/"
        },
        "id": "LbKsSmvjUEqV",
        "outputId": "2b4286e9-acf6-4362-9c74-c4011e673496"
      },
      "execution_count": 169,
      "outputs": [
        {
          "output_type": "execute_result",
          "data": {
            "text/plain": [
              "(np.float64(7409.326785945957),\n",
              " 435.55320814719005,\n",
              " np.float64(1765.8310980969145),\n",
              " 5207.942479701853)"
            ]
          },
          "metadata": {},
          "execution_count": 169
        }
      ]
    },
    {
      "cell_type": "markdown",
      "source": [
        "#Calculando comprimento evaporador"
      ],
      "metadata": {
        "id": "wQ7jxB0Hri_H"
      }
    },
    {
      "cell_type": "markdown",
      "source": [
        "Definição da vazão mássica a partir da carga térmica, utilizando software CoolSelector da Danfoss\n"
      ],
      "metadata": {
        "id": "lPHg4FeoueYe"
      }
    },
    {
      "cell_type": "code",
      "source": [
        "vazao_massica_refri = 169.8/3600 #kg/s\n",
        "T_evap = 273.15-10 # K\n",
        "P_entrada_evap = 450*1000 #Pa\n",
        "x_ini = 0.3 # fração de vapor na entrada do evaporador\n",
        "Q_lat_refr = vazao_massica_refri*(((PropsSI(\"H\", \"T\", T_evap, \"Q\", 1, \"R22\")) - PropsSI(\"H\", \"T\", T_evap, \"Q\", 0.3, \"R22\")))\n",
        "Q_lat_refr # W"
      ],
      "metadata": {
        "colab": {
          "base_uri": "https://localhost:8080/"
        },
        "id": "rgVqNIF9uosS",
        "outputId": "e2ae0774-b206-4fe6-9763-980ff75a97b6"
      },
      "execution_count": 170,
      "outputs": [
        {
          "output_type": "execute_result",
          "data": {
            "text/plain": [
              "7025.719327868491"
            ]
          },
          "metadata": {},
          "execution_count": 170
        }
      ]
    },
    {
      "cell_type": "markdown",
      "source": [
        "https://www.sciencedirect.com/science/article/abs/pii/S0140700714002369"
      ],
      "metadata": {
        "id": "0vBbqgY-8ci2"
      }
    },
    {
      "cell_type": "markdown",
      "source": [
        "https://jingweizhu.weebly.com/uploads/1/3/5/4/13548262/summary_of_chen%E2%80%99s_correlation_for_boiling_heat_transfer_to_saturated_fluids_in_convective_flow.pdf\n",
        "\n",
        "Esse e descrição do chat gpt\n"
      ],
      "metadata": {
        "id": "-MqBWsMu95n3"
      }
    },
    {
      "cell_type": "code",
      "source": [
        "# Propriedades obtidas na linha de saturação\n",
        "rhol = PropsSI('D', 'T', T_evap, 'Q', 0, fluid)       # kg/m³\n",
        "rhog = PropsSI('D', 'T', T_evap, 'Q', 1, fluid)       # kg/m³\n",
        "mul  = PropsSI('V', 'T', T_evap, 'Q', 0, fluid)       # Pa.s\n",
        "mug  = PropsSI('V', 'T', T_evap, 'Q', 1, fluid)       # Pa.s\n",
        "kl   = PropsSI('L', 'T', T_evap, 'Q', 0, fluid)       # W/m.K\n",
        "Cpl  = PropsSI('C', 'T', T_evap, 'Q', 0, fluid)       # J/kg.K\n",
        "Hvap = PropsSI('H', 'T', T_evap, 'Q', 1, fluid) - \\\n",
        "      PropsSI('H', 'T', T_evap, 'Q', 0, fluid)       # J/kg\n",
        "sigma = PropsSI('SURFACE_TENSION', 'T', T_evap, 'Q', 0, fluid)  # N/m\n",
        "\n",
        "\n",
        "x = np.linspace(x_ini,0.99, divisoes)\n",
        "x"
      ],
      "metadata": {
        "id": "ZYljIrUXGo7C",
        "colab": {
          "base_uri": "https://localhost:8080/"
        },
        "outputId": "30b6f424-3d47-4c33-93a1-0a67e3a0a5d1"
      },
      "execution_count": 171,
      "outputs": [
        {
          "output_type": "execute_result",
          "data": {
            "text/plain": [
              "array([0.3       , 0.3069697 , 0.31393939, 0.32090909, 0.32787879,\n",
              "       0.33484848, 0.34181818, 0.34878788, 0.35575758, 0.36272727,\n",
              "       0.36969697, 0.37666667, 0.38363636, 0.39060606, 0.39757576,\n",
              "       0.40454545, 0.41151515, 0.41848485, 0.42545455, 0.43242424,\n",
              "       0.43939394, 0.44636364, 0.45333333, 0.46030303, 0.46727273,\n",
              "       0.47424242, 0.48121212, 0.48818182, 0.49515152, 0.50212121,\n",
              "       0.50909091, 0.51606061, 0.5230303 , 0.53      , 0.5369697 ,\n",
              "       0.54393939, 0.55090909, 0.55787879, 0.56484848, 0.57181818,\n",
              "       0.57878788, 0.58575758, 0.59272727, 0.59969697, 0.60666667,\n",
              "       0.61363636, 0.62060606, 0.62757576, 0.63454545, 0.64151515,\n",
              "       0.64848485, 0.65545455, 0.66242424, 0.66939394, 0.67636364,\n",
              "       0.68333333, 0.69030303, 0.69727273, 0.70424242, 0.71121212,\n",
              "       0.71818182, 0.72515152, 0.73212121, 0.73909091, 0.74606061,\n",
              "       0.7530303 , 0.76      , 0.7669697 , 0.77393939, 0.78090909,\n",
              "       0.78787879, 0.79484848, 0.80181818, 0.80878788, 0.81575758,\n",
              "       0.82272727, 0.82969697, 0.83666667, 0.84363636, 0.85060606,\n",
              "       0.85757576, 0.86454545, 0.87151515, 0.87848485, 0.88545455,\n",
              "       0.89242424, 0.89939394, 0.90636364, 0.91333333, 0.92030303,\n",
              "       0.92727273, 0.93424242, 0.94121212, 0.94818182, 0.95515152,\n",
              "       0.96212121, 0.96909091, 0.97606061, 0.9830303 , 0.99      ])"
            ]
          },
          "metadata": {},
          "execution_count": 171
        }
      ]
    },
    {
      "cell_type": "markdown",
      "source": [
        "CORRELAÇÃO CHEN"
      ],
      "metadata": {
        "id": "y_G49qHy22vg"
      }
    },
    {
      "cell_type": "code",
      "source": [
        "def correlacao_chen(x):\n",
        "  # Fluido e condições de operação\n",
        "  fluid = 'R22'\n",
        "  T_sat = 273.15-10  # Temperatura de saturação em K (100 °C)\n",
        "  Te = 8        # Superaquecimento da parede (T_wall - T_sat) em K         # Título de vapor\n",
        "  # Derivada da pressão de saturação em função da temperatura (dPsat/dT)\n",
        "  delta_T = 0.01  # K\n",
        "  p1 = PropsSI('P', 'T', T_sat - delta_T, 'Q', 0, fluid)\n",
        "  p2 = PropsSI('P', 'T', T_sat + delta_T, 'Q', 0, fluid)\n",
        "  dPsat = (p2 - p1) / (2 * delta_T)  # Pa/K\n",
        "\n",
        "  # Cálculo do coeficiente de convecção\n",
        "  h = bf.Chen_Bennett(vazao_massica_refri, x, diam_interno_serp, rhol, rhog, mul, mug, kl, Cpl, Hvap, sigma, dPsat, Te)\n",
        "  return h\n"
      ],
      "metadata": {
        "id": "LEF6vB8p0N3Y"
      },
      "execution_count": 172,
      "outputs": []
    },
    {
      "cell_type": "markdown",
      "source": [
        "CORRELAÇÃO CHURCHILL BERNSTEIN"
      ],
      "metadata": {
        "id": "H3QKXQzPKCyd"
      }
    },
    {
      "cell_type": "code",
      "source": [
        "def correlacao_churchill_bernstein(Re, Pr):\n",
        "  nu_ext = ht.conv_external.Nu_cylinder_Churchill_Bernstein(Re, Pr)\n",
        "  h_externo = nu_ext*k_arrefecimento/(diam_hel_serp)\n",
        "  return h_externo"
      ],
      "metadata": {
        "id": "us47sILz7buU"
      },
      "execution_count": 173,
      "outputs": []
    },
    {
      "cell_type": "markdown",
      "source": [
        "CORRELAÇÃO DITTUS BOELTER"
      ],
      "metadata": {
        "id": "lPNBqukSPPoC"
      }
    },
    {
      "cell_type": "code",
      "source": [
        "def correlacao_dittus_boelter(Re, Pr):\n",
        "\n",
        "  h = ht.conv_internal.turbulent_Dittus_Boelter(Re, Pr, heating=False, revised=True)\n",
        "\n",
        "  return h\n"
      ],
      "metadata": {
        "id": "t_sfDRKmPOBu"
      },
      "execution_count": 174,
      "outputs": []
    },
    {
      "cell_type": "code",
      "source": [
        "L_evap_vapor = 0\n",
        "for i in range(len(T_range_superaquecimento)-1):\n",
        "  Q_sup = vazao_massica_refri*PropsSI('C', 'T', (T_range_superaquecimento[i]+T_range_superaquecimento[i+1])/2, 'P', P_entrada_evap, 'R22')*(T_range_superaquecimento[i+1]-T_range_superaquecimento[i])\n",
        "  velocidade_refrigerante_vapor = vazao_massica_refri/((np.pi*(diam_interno_serp**2)/4)*(PropsSI('D', 'T', T_range_superaquecimento[i]+T_range_superaquecimento[i+1]/2, 'P', P_entrada_evap, 'R22')))\n",
        "  reynolds_vapor_refr = (velocidade_refrigerante_vapor*diam_interno_serp*PropsSI('D', 'T', (T_range_superaquecimento[i]+T_range_superaquecimento[i+1])/2, 'P', P_entrada_evap, 'R22'))/(PropsSI('V', 'T', T_range_superaquecimento[i]+T_range_superaquecimento[i+1]/2, 'P', P_entrada_evap, 'R22'))\n",
        "  Pr_vapor = (PropsSI('C', 'T', (T_range_superaquecimento[i]+T_range_superaquecimento[i+1])/2, 'P', P_entrada_evap, 'R22')*PropsSI('V', 'T', (T_range_superaquecimento[i]+T_range_superaquecimento[i+1])/2, 'P', P_entrada_evap, 'R22'))/ (PropsSI('L', 'T', (T_range_superaquecimento[i]+T_range_superaquecimento[i+1])/2, 'P', P_entrada_evap, 'R22'))\n",
        "  L_evap_vapor_temp = Q_sup*(((np.log(dext_serp/diam_interno_serp))/(2*np.pi*k_inox))+(1/correlacao_dittus_boelter(reynolds_vapor_refr, Pr_vapor)*np.pi*diam_interno_serp))+(1/(correlacao_churchill_bernstein(Re_casco, Pr_casco)*np.pi*dext_serp))*(1/(T_alvo_arrefecimento-T_evap))\n",
        "  L_evap_vapor = L_evap_vapor + L_evap_vapor_temp\n",
        "L_evap_vapor"
      ],
      "metadata": {
        "colab": {
          "base_uri": "https://localhost:8080/"
        },
        "id": "w2WUirF9Pwjz",
        "outputId": "5959795e-e969-4db3-d731-0f7961f899ea"
      },
      "execution_count": 175,
      "outputs": [
        {
          "output_type": "execute_result",
          "data": {
            "text/plain": [
              "np.float64(1.1323072537169514)"
            ]
          },
          "metadata": {},
          "execution_count": 175
        }
      ]
    },
    {
      "cell_type": "code",
      "source": [
        "L_evap = 0\n",
        "for i in range(len(x)-1):\n",
        "  Q_lat_refr = vazao_massica_refri*(((PropsSI(\"H\", \"T\", T_evap, \"Q\", x[i+1], \"R22\")) - PropsSI(\"H\", \"T\", T_evap, \"Q\", x[i], \"R22\")))\n",
        "  L_evap_temp = Q_lat_refr*(((np.log(dext_serp/diam_interno_serp))/(2*np.pi*k_inox))+(1/(correlacao_chen(x[i])*np.pi*diam_interno_serp))+(1/(correlacao_churchill_bernstein(Re_casco, Pr_casco)*np.pi*dext_serp)))*(1/(T_alvo_arrefecimento-T_evap))\n",
        "  L_evap = L_evap + L_evap_temp\n",
        "L_evap"
      ],
      "metadata": {
        "colab": {
          "base_uri": "https://localhost:8080/"
        },
        "id": "ZDpk5wasIvjM",
        "outputId": "2c6807c8-d58f-4dbc-e63c-4da63e54646a"
      },
      "execution_count": 176,
      "outputs": [
        {
          "output_type": "execute_result",
          "data": {
            "text/plain": [
              "np.float64(23.605283576047597)"
            ]
          },
          "metadata": {},
          "execution_count": 176
        }
      ]
    },
    {
      "cell_type": "code",
      "source": [
        "L_serpentina = L_evap+L_evap_vapor\n",
        "L_serpentina"
      ],
      "metadata": {
        "colab": {
          "base_uri": "https://localhost:8080/"
        },
        "id": "2lwqf9M3PEj2",
        "outputId": "0e561b2b-d3fc-4f89-ee8d-eefe7a0e7cc2"
      },
      "execution_count": 177,
      "outputs": [
        {
          "output_type": "execute_result",
          "data": {
            "text/plain": [
              "np.float64(24.73759082976455)"
            ]
          },
          "metadata": {},
          "execution_count": 177
        }
      ]
    },
    {
      "cell_type": "markdown",
      "source": [
        "Cálculo região de superaquecimento"
      ],
      "metadata": {
        "id": "jEruJhTHwlma"
      }
    },
    {
      "cell_type": "markdown",
      "source": [
        "#Dimensionamento tubos colméia"
      ],
      "metadata": {
        "id": "YltJzYkt4e6L"
      }
    },
    {
      "cell_type": "markdown",
      "source": [
        "Propriedades geométricas"
      ],
      "metadata": {
        "id": "UyZWt9ST4meW"
      }
    },
    {
      "cell_type": "code",
      "source": [
        "dext_tubos = 19.05/1000 # m\n",
        "espessura_tubos = 1.2/1000 # m\n",
        "dint_tubos = dext_tubos-2*espessura_tubos # m\n",
        "A_int_tubos = np.pi*(dint_tubos**2)/4 # m²\n",
        "A_ext_tubos = np.pi*(dext_tubos**2)/4 # m²\n",
        "N = 66"
      ],
      "metadata": {
        "id": "CEA6IJUu3yn2"
      },
      "execution_count": 178,
      "outputs": []
    },
    {
      "cell_type": "code",
      "source": [
        "def visc_dinamica_biogas(P_biogas,T_biogas):\n",
        "   massa_molar_total = 0\n",
        "   visc_dinamica_biogas = 0\n",
        "   for elementos in fracoes_volumetricas:\n",
        "    massa_molar_total = massa_molar_total + fracoes_volumetricas[elementos]*PropsSI('M', 'T', T_biogas, 'P', P_biogas, elementos)\n",
        "   #print(massa_molar_total)\n",
        "   for elementos in fracoes_volumetricas:\n",
        "    visc_dinamica_biogas = visc_dinamica_biogas + (((PropsSI('M', 'T', T_biogas, 'P', P_biogas*fracoes_volumetricas[elementos], elementos)*fracoes_volumetricas[elementos])/massa_molar_total)*PropsSI('V', 'T', T_biogas, 'P', P_biogas*fracoes_volumetricas[elementos], elementos))\n",
        "   return visc_dinamica_biogas"
      ],
      "metadata": {
        "id": "zhpF4_UBy4LC"
      },
      "execution_count": 179,
      "outputs": []
    },
    {
      "cell_type": "code",
      "source": [
        "def condutividade_biogas(P_biogas,T_biogas):\n",
        "   massa_molar_total = 0\n",
        "   condutividade_biogas = 0\n",
        "   for elementos in fracoes_volumetricas:\n",
        "    massa_molar_total = massa_molar_total + fracoes_volumetricas[elementos]*PropsSI('M', 'T', T_biogas, 'P', P_biogas, elementos)\n",
        "   #print(massa_molar_total)\n",
        "   for elementos in fracoes_volumetricas:\n",
        "    condutividade_biogas = condutividade_biogas + (((PropsSI('M', 'T', T_biogas, 'P', P_biogas*fracoes_volumetricas[elementos], elementos)*fracoes_volumetricas[elementos])/massa_molar_total)*PropsSI('L', 'T', T_biogas, 'P', P_biogas*fracoes_volumetricas[elementos], elementos))\n",
        "   return condutividade_biogas"
      ],
      "metadata": {
        "id": "-W-ALvLw1gEI"
      },
      "execution_count": 180,
      "outputs": []
    },
    {
      "cell_type": "code",
      "source": [
        "def densidade_biogas(P_biogas,T_biogas):\n",
        "   massa_molar_total = 0\n",
        "   densidade_biogas = 0\n",
        "   for elementos in fracoes_volumetricas:\n",
        "    massa_molar_total = massa_molar_total + fracoes_volumetricas[elementos]*PropsSI('M', 'T', T_biogas, 'P', P_biogas, elementos)\n",
        "   #print(massa_molar_total)\n",
        "   densidade_biogas = (P_biogas*massa_molar_total)/(8.314*T_biogas)\n",
        "   return densidade_biogas"
      ],
      "metadata": {
        "id": "1JeAUvPt4FvX"
      },
      "execution_count": 181,
      "outputs": []
    },
    {
      "cell_type": "code",
      "source": [
        "P_entrada_biogas\n",
        "T_entrada_biogas"
      ],
      "metadata": {
        "colab": {
          "base_uri": "https://localhost:8080/"
        },
        "id": "MsINsx7Fz1uY",
        "outputId": "6eb96c8e-af71-439f-8778-1dce47b56903"
      },
      "execution_count": 182,
      "outputs": [
        {
          "output_type": "execute_result",
          "data": {
            "text/plain": [
              "338.15"
            ]
          },
          "metadata": {},
          "execution_count": 182
        }
      ]
    },
    {
      "cell_type": "code",
      "source": [
        "condutividade_biogas(P_entrada_biogas,T_entrada_biogas)"
      ],
      "metadata": {
        "colab": {
          "base_uri": "https://localhost:8080/"
        },
        "id": "RXbRhdRNLiJy",
        "outputId": "281c2704-335a-47a7-e2fb-b133cf13e2ff"
      },
      "execution_count": 183,
      "outputs": [
        {
          "output_type": "execute_result",
          "data": {
            "text/plain": [
              "0.027706641514005297"
            ]
          },
          "metadata": {},
          "execution_count": 183
        }
      ]
    },
    {
      "cell_type": "code",
      "source": [
        "visc_dinamica_biogas(P_entrada_biogas,T_entrada_biogas)"
      ],
      "metadata": {
        "colab": {
          "base_uri": "https://localhost:8080/"
        },
        "id": "jQ0nsudHzeXq",
        "outputId": "282e49ea-ba24-4aeb-a958-d808659c58c9"
      },
      "execution_count": 184,
      "outputs": [
        {
          "output_type": "execute_result",
          "data": {
            "text/plain": [
              "1.5018094295653462e-05"
            ]
          },
          "metadata": {},
          "execution_count": 184
        }
      ]
    },
    {
      "cell_type": "code",
      "source": [
        "densidade_biogas(P_entrada_biogas,T_entrada_biogas)\n"
      ],
      "metadata": {
        "colab": {
          "base_uri": "https://localhost:8080/"
        },
        "id": "XxVLaPCgHyho",
        "outputId": "d61e0b46-1e31-4eda-ed49-a1bf02d79d7b"
      },
      "execution_count": 185,
      "outputs": [
        {
          "output_type": "execute_result",
          "data": {
            "text/plain": [
              "0.3066355519540428"
            ]
          },
          "metadata": {},
          "execution_count": 185
        }
      ]
    },
    {
      "cell_type": "code",
      "source": [
        "Rt_cond_tubos = np.log(dext_tubos/dint_tubos)/(2*np.pi*k_inox)\n",
        "vazao_massica_tubos = (vazao_massica_biogas/N)\n",
        "print(vazao_massica_biogas)\n",
        "print(vazao_massica_tubos)\n",
        "Q=0\n",
        "L_tubos_sen = 0\n",
        "divisoes = 100\n",
        "T = np.linspace(T_entrada_biogas,T_alvo_biogas,divisoes)\n",
        "print(P_entrada_biogas)\n",
        "for i in range(len(T)-1):\n",
        "  vel_tubos = (vazao_massica_tubos/(((densidade_biogas(P_entrada_biogas,(T[i+1]+T[i])/2)))*A_int_tubos))\n",
        "  # print(vel_tubos)\n",
        "  reynolds_biogas_sens = ((vel_tubos*dint_tubos*densidade_biogas(P_entrada_biogas,(T[i+1]+T[i])/2)))/(visc_dinamica_biogas(P_entrada_biogas,(T[i+1]+T[i])/2))\n",
        "  # print(reynolds_biogas_sens)\n",
        "  Pr_biogas_sens = (cp_biogas(P_entrada_biogas,(T[i+1]+T[i])/2) *visc_dinamica_biogas(P_entrada_biogas,(T[i+1]+T[i])/2) )/(condutividade_biogas(P_entrada_biogas,(T[i+1]+T[i])/2))\n",
        "\n",
        "  nud_db_biogas_sens = 0.023*(reynolds_biogas_sens**(0.8))*(Pr_biogas_sens**(0.4))\n",
        "  nud_db_biogas_sens\n",
        "  h_conv_tubos_sens = (nud_db_biogas_sens*condutividade_biogas(P_entrada_biogas,(T[i+1]+T[i])/2)/(dint_tubos))*1.3\n",
        "  fator_atrito = (64/reynolds_biogas_sens)\n",
        "\n",
        "  # print(h_conv_tubos_sens)\n",
        "  # print(h_conv_tubos_sens)\n",
        "  Rt_conv_tubos = (1/(h_conv_tubos_sens*np.pi*dint_tubos))\n",
        "  Q_bio_sens = vazao_massica_tubos*cp_biogas(P_entrada_biogas,(T[i+1]+T[i])/2)*(-T[i+1]+T[i])\n",
        "  L = Q_bio_sens*(Rt_cond_tubos+Rt_conv_tubos)/((((T[i+1]+T[i])/2)-T_alvo_arrefecimento))\n",
        "  Q = Q_bio_sens + Q\n",
        "  L_tubos_sen = L_tubos_sen + L\n",
        "  queda_pressao = fator_atrito*L*densidade_biogas(P_entrada_biogas,(T[i+1]+T[i])/2)*(vel_tubos**2)/(2*dint_tubos)\n",
        "  P_entrada_biogas = P_entrada_biogas - queda_pressao\n",
        "  # print(queda_pressao)\n",
        "  # print(Q\n",
        "  L =0\n",
        "  # print(Q)\n",
        "print(L_tubos_sen)\n",
        "print(P_entrada_biogas)\n",
        "print(Q)"
      ],
      "metadata": {
        "colab": {
          "base_uri": "https://localhost:8080/"
        },
        "id": "8s2IORiWhVBQ",
        "outputId": "53f7c586-6133-4d72-e681-3872a20041c1"
      },
      "execution_count": 186,
      "outputs": [
        {
          "output_type": "stream",
          "name": "stdout",
          "text": [
            "0.019227838241768682\n",
            "0.00029133088245104064\n",
            "33340.0\n",
            "1.8930669477289555\n",
            "33329.331774079605\n",
            "26.755013338286304\n"
          ]
        }
      ]
    }
  ]
}